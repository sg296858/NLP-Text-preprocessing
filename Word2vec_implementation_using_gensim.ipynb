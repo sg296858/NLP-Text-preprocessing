{
  "nbformat": 4,
  "nbformat_minor": 0,
  "metadata": {
    "colab": {
      "provenance": []
    },
    "kernelspec": {
      "name": "python3",
      "display_name": "Python 3"
    },
    "language_info": {
      "name": "python"
    }
  },
  "cells": [
    {
      "cell_type": "code",
      "execution_count": 20,
      "metadata": {
        "id": "2Qz9ff2WhKdj"
      },
      "outputs": [],
      "source": [
        "import gensim\n",
        "from gensim.models import word2vec,KeyedVectors"
      ]
    },
    {
      "cell_type": "code",
      "source": [
        "!pip install wget"
      ],
      "metadata": {
        "colab": {
          "base_uri": "https://localhost:8080/"
        },
        "id": "SRiw35guhjRf",
        "outputId": "c219d52a-c44e-4517-da04-482285c49ab1"
      },
      "execution_count": 21,
      "outputs": [
        {
          "output_type": "stream",
          "name": "stdout",
          "text": [
            "Requirement already satisfied: wget in /usr/local/lib/python3.10/dist-packages (3.2)\n"
          ]
        }
      ]
    },
    {
      "cell_type": "code",
      "source": [
        "!wget -c \"https://s3.amazonaws.com/dl4j-distribution/GoogleNews-vectors-negative300.bin.gz\""
      ],
      "metadata": {
        "colab": {
          "base_uri": "https://localhost:8080/"
        },
        "id": "3Gnj77yYhpcT",
        "outputId": "45cbde3e-9138-4e1e-d02e-dee624c0ca3f"
      },
      "execution_count": 22,
      "outputs": [
        {
          "output_type": "stream",
          "name": "stdout",
          "text": [
            "--2024-11-12 13:31:10--  https://s3.amazonaws.com/dl4j-distribution/GoogleNews-vectors-negative300.bin.gz\n",
            "Resolving s3.amazonaws.com (s3.amazonaws.com)... 52.217.160.160, 52.216.35.64, 52.216.240.238, ...\n",
            "Connecting to s3.amazonaws.com (s3.amazonaws.com)|52.217.160.160|:443... connected.\n",
            "HTTP request sent, awaiting response... 404 Not Found\n",
            "2024-11-12 13:31:10 ERROR 404: Not Found.\n",
            "\n"
          ]
        }
      ]
    },
    {
      "cell_type": "code",
      "source": [
        "!gzip -d GoogleNews-vectors-negative300.bin.gz"
      ],
      "metadata": {
        "colab": {
          "base_uri": "https://localhost:8080/"
        },
        "id": "iEoOBeDmiEN8",
        "outputId": "274170f2-2152-4132-a8f9-0d750cab2c38"
      },
      "execution_count": 23,
      "outputs": [
        {
          "output_type": "stream",
          "name": "stdout",
          "text": [
            "gzip: GoogleNews-vectors-negative300.bin.gz: No such file or directory\n"
          ]
        }
      ]
    },
    {
      "cell_type": "code",
      "source": [
        "import gensim.downloader as api\n",
        "model = api.load(\"glove-wiki-gigaword-300\")"
      ],
      "metadata": {
        "id": "hyHSjCg2jetP"
      },
      "execution_count": 24,
      "outputs": []
    },
    {
      "cell_type": "code",
      "source": [
        "model.most_similar(\"cat\")"
      ],
      "metadata": {
        "colab": {
          "base_uri": "https://localhost:8080/"
        },
        "id": "Zd5Fzek5k_sK",
        "outputId": "87ff5cd0-52e3-4dae-ad74-5604b6e36851"
      },
      "execution_count": 25,
      "outputs": [
        {
          "output_type": "execute_result",
          "data": {
            "text/plain": [
              "[('dog', 0.6816747188568115),\n",
              " ('cats', 0.6815836429595947),\n",
              " ('pet', 0.5870364904403687),\n",
              " ('dogs', 0.5407667756080627),\n",
              " ('feline', 0.48979708552360535),\n",
              " ('monkey', 0.4879434406757355),\n",
              " ('horse', 0.4732131063938141),\n",
              " ('pets', 0.46348586678504944),\n",
              " ('rabbit', 0.4608757495880127),\n",
              " ('leopard', 0.4585462808609009)]"
            ]
          },
          "metadata": {},
          "execution_count": 25
        }
      ]
    },
    {
      "cell_type": "code",
      "source": [
        "model.most_similar(\"man\")"
      ],
      "metadata": {
        "colab": {
          "base_uri": "https://localhost:8080/"
        },
        "id": "KA61OsG7lF7D",
        "outputId": "3d274df4-510c-497e-a3f4-7083020604dd"
      },
      "execution_count": 26,
      "outputs": [
        {
          "output_type": "execute_result",
          "data": {
            "text/plain": [
              "[('woman', 0.6998663544654846),\n",
              " ('person', 0.6443442106246948),\n",
              " ('boy', 0.6208277940750122),\n",
              " ('he', 0.5926738381385803),\n",
              " ('men', 0.5819568634033203),\n",
              " ('himself', 0.5810033082962036),\n",
              " ('one', 0.5779521465301514),\n",
              " ('another', 0.5721587538719177),\n",
              " ('who', 0.5703631639480591),\n",
              " ('him', 0.5670831203460693)]"
            ]
          },
          "metadata": {},
          "execution_count": 26
        }
      ]
    },
    {
      "cell_type": "code",
      "source": [
        "model.similarity(\"man\",\"woman\")"
      ],
      "metadata": {
        "colab": {
          "base_uri": "https://localhost:8080/"
        },
        "id": "qCgbiAUVlUzB",
        "outputId": "54c126f1-7caf-4811-84b6-40e9bee21f78"
      },
      "execution_count": 28,
      "outputs": [
        {
          "output_type": "execute_result",
          "data": {
            "text/plain": [
              "0.6998663"
            ]
          },
          "metadata": {},
          "execution_count": 28
        }
      ]
    },
    {
      "cell_type": "code",
      "source": [
        "model.similarity(\"king\",\"cricket\")"
      ],
      "metadata": {
        "colab": {
          "base_uri": "https://localhost:8080/"
        },
        "id": "G2ooiXbqlhXV",
        "outputId": "272b92fc-66f1-4cf6-cffe-a56eb020c126"
      },
      "execution_count": 29,
      "outputs": [
        {
          "output_type": "execute_result",
          "data": {
            "text/plain": [
              "0.12074401"
            ]
          },
          "metadata": {},
          "execution_count": 29
        }
      ]
    },
    {
      "cell_type": "code",
      "source": [
        "vec=model[\"king\"]-model[\"man\"]+model[\"woman\"]\n",
        "model.most_similar([vec])"
      ],
      "metadata": {
        "colab": {
          "base_uri": "https://localhost:8080/"
        },
        "id": "ZOblfcyxlsoK",
        "outputId": "910ec5e1-598c-4603-b10a-28736fceabb6"
      },
      "execution_count": 30,
      "outputs": [
        {
          "output_type": "execute_result",
          "data": {
            "text/plain": [
              "[('king', 0.8065858483314514),\n",
              " ('queen', 0.689616322517395),\n",
              " ('monarch', 0.5575491189956665),\n",
              " ('throne', 0.5565375089645386),\n",
              " ('princess', 0.5518684387207031),\n",
              " ('mother', 0.5142154693603516),\n",
              " ('daughter', 0.5133156776428223),\n",
              " ('kingdom', 0.5025345087051392),\n",
              " ('prince', 0.5017741322517395),\n",
              " ('elizabeth', 0.4908031225204468)]"
            ]
          },
          "metadata": {},
          "execution_count": 30
        }
      ]
    }
  ]
}